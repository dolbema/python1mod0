{
 "cells": [
  {
   "cell_type": "markdown",
   "metadata": {},
   "source": [
    "## Introduction to Jupyter Notebook Functions\n",
    "\n",
    "<b>Quick Introduction to What All Those Icons Mean!</b>\n",
    "\n",
    "* Floppy Disc -- save your work/code\n",
    "* Plus Sign -- Add a new cell below the current cell\n",
    "* Scissors -- delete the current/active cell\n",
    "* Duplicate Papers -- copy all contents of current cell\n",
    "* Clipboard and Paper -- paste copied cells\n",
    "* Up and Down Arrows -- move current cell up and down the notebook\n",
    "* Run -- execute the code within the current cell\n",
    "\n",
    "<b>What are Cells? What is a notebook?</b>\n",
    "\n",
    "* <b>A notebook</b> is everything within this singular page. This entire page, and all the code that you will ultimately include, is a notebook. Think of it as a word document. \n",
    "\n",
    "* <b>A cell</b> is each individual box within the notebook. Each cell will include various code, and because the cells are all separate, your code will be amazingly organized within your notebook. Some code needs to be in it's own cell -- while other code can be grouped into one cell together. \n",
    "\n",
    "<b>Command Mode and Edit Mode</b>\n",
    "\n",
    "The Jupyter Notebook has two different keyboard input modes. Edit mode allows you to type code or text into a cell and is indicated by a green cell border. Command mode binds the keyboard to notebook level commands and is indicated by a grey cell border with a blue left margin.\n",
    "\n",
    "You can change the type of cell you are typing into by utilizing the dropdown menu above. Click the cell below this one -- in the dropdown box above it should say \"CODE\" because that cell is in Command Mode. Next, click the cell below that one, the dropdown menu should now say \"MARKDOWN\" because that cell is in Edit mode. You can change the type of cell at any time by just clicking the cell and changing the option in the dropdown box. Unless you are planning to write blocks of text within your notebook, we are going to be sticking primarily with cells in Command mode within this class. "
   ]
  },
  {
   "cell_type": "markdown",
   "metadata": {},
   "source": [
    "HELLO THIS CELL IS IN COMMAND MODE\n",
    "\n",
    "You can tell this because the cell is always outlined in green! \n",
    "If you run this cell without any real code, you will get an error!"
   ]
  },
  {
   "cell_type": "markdown",
   "metadata": {},
   "source": [
    "HELLO THIS CELL IS IN EDIT MODE (ALSO CALLED MARKDOWN)\n",
    "\n",
    "You can tell this because when you click on the left-hand border of the cell, it turns blue. If you run this cell, this block will show up as text. If this cell is executed, double-click on it to return to edit mode!"
   ]
  },
  {
   "cell_type": "markdown",
   "metadata": {},
   "source": [
    "<b>Titles and Headings</b>\n",
    "\n",
    "Adding section headings to new sections of code can make it easier to read/review your code. You can add a heading by just adding text to a cell that is listed as 'markdown' (as we've seen above) OR you can make that text standout a little more but adding a hashtag before your text. See the example below:\n",
    "\n",
    "* One hashtag before your text makes the text much larger\n",
    "* Two hashtags before your text makes the text larger, but smaller than the text with one hashtag. "
   ]
  },
  {
   "cell_type": "markdown",
   "metadata": {},
   "source": [
    "The more hashtags you include the smaller the text becomes. Play around with this and see how it works!\n",
    "\n",
    "# TITLE 1\n",
    "## TITLE 2\n",
    "### Title 3 "
   ]
  },
  {
   "cell_type": "markdown",
   "metadata": {},
   "source": [
    "### TITLE 4\n",
    "\n",
    "###### this is just for you!"
   ]
  },
  {
   "cell_type": "markdown",
   "metadata": {},
   "source": [
    "<b>Keyboard Shortcuts</b>\n",
    "\n",
    "There are preestablished keyboard shortcuts programmed within Jupyter Notebooks. You can use these shortcuts to make code writing a lot quicker. To see all the keyboard shortcuts available, click on the small Keyboard Icon next to the markdown dropdown menu. "
   ]
  },
  {
   "cell_type": "markdown",
   "metadata": {},
   "source": [
    "## Instructions\n",
    "1. Answer below question\n",
    "2. Rename this file to include your lastname as a post-fix to the file name.\n",
    "   - Example, \"Introduction-your lastname\"\n",
    "3. Submit the file via Canvas"
   ]
  },
  {
   "cell_type": "markdown",
   "metadata": {},
   "source": [
    "## Question\n",
    "1. Please introduce yourself (name, background, interest)."
   ]
  },
  {
   "cell_type": "markdown",
   "metadata": {},
   "source": [
    "## NAME\n",
    "Maria Cristina Dolbec-Oliveras"
   ]
  },
  {
   "cell_type": "markdown",
   "metadata": {},
   "source": [
    "## Background\n",
    "Genetics, Neuroscience and Clinical Research"
   ]
  },
  {
   "cell_type": "markdown",
   "metadata": {},
   "source": [
    "## Interest\n",
    "I am interested in using Python to help with my research (data analysis/lit searches) and also to help automate with some of my administrative tasks."
   ]
  },
  {
   "cell_type": "code",
   "execution_count": null,
   "metadata": {},
   "outputs": [],
   "source": []
  }
 ],
 "metadata": {
  "kernelspec": {
   "display_name": "Python 3 (ipykernel)",
   "language": "python",
   "name": "python3"
  },
  "language_info": {
   "codemirror_mode": {
    "name": "ipython",
    "version": 3
   },
   "file_extension": ".py",
   "mimetype": "text/x-python",
   "name": "python",
   "nbconvert_exporter": "python",
   "pygments_lexer": "ipython3",
   "version": "3.11.7"
  }
 },
 "nbformat": 4,
 "nbformat_minor": 4
}
